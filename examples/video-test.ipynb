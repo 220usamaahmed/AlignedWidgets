{
 "cells": [
  {
   "cell_type": "code",
   "execution_count": 2,
   "id": "3223aa05-1c80-4e2e-97f3-52b47e94f069",
   "metadata": {},
   "outputs": [
    {
     "name": "stdout",
     "output_type": "stream",
     "text": [
      "-------- VERY IMPORTANT LOG ----------\n",
      "------- 3* ------- ./dummy_video.mp4 None\n",
      "------- 4* -------\n",
      "------- 8* ------- None ./dummy_video.mp4 None\n",
      "------- reload 3 pass -------\n",
      "------- 9* ------- None\n",
      "repr html 1\n",
      "repr html 2\n",
      "OUTPUT <video src=\"./dummy_video.mp4\" controls  >\n",
      "      Your browser does not support the <code>video</code> element.\n",
      "    </video>\n"
     ]
    },
    {
     "data": {
      "text/html": [
       "<video src=\"./dummy_video.mp4\" controls  >\n",
       "      Your browser does not support the <code>video</code> element.\n",
       "    </video>"
      ],
      "text/plain": [
       "<IPython.core.display.Video object>"
      ]
     },
     "execution_count": 2,
     "metadata": {},
     "output_type": "execute_result"
    }
   ],
   "source": [
    "from IPython.display import Video\n",
    "\n",
    "Video(\"./dummy_video.mp4\")"
   ]
  },
  {
   "cell_type": "code",
   "execution_count": 3,
   "id": "a80e061f-b941-40b0-a544-24c5fd3eff57",
   "metadata": {},
   "outputs": [],
   "source": [
    "import os"
   ]
  },
  {
   "cell_type": "code",
   "execution_count": null,
   "id": "6698dba7-28c1-4a55-b60d-4a815f003d1c",
   "metadata": {},
   "outputs": [],
   "source": []
  },
  {
   "cell_type": "code",
   "execution_count": 4,
   "id": "d4f22fa5-6e75-4af3-b595-7e512bccfe0a",
   "metadata": {},
   "outputs": [
    {
     "data": {
      "text/plain": [
       "'/Users/usama/Projects/AlignedWidgets/examples'"
      ]
     },
     "execution_count": 4,
     "metadata": {},
     "output_type": "execute_result"
    }
   ],
   "source": [
    "os.getcwd()"
   ]
  },
  {
   "cell_type": "code",
   "execution_count": null,
   "id": "93f0a92b-0b49-4ea1-8803-db31e3a38042",
   "metadata": {},
   "outputs": [],
   "source": []
  }
 ],
 "metadata": {
  "kernelspec": {
   "display_name": "Python 3 (ipykernel)",
   "language": "python",
   "name": "python3"
  },
  "language_info": {
   "codemirror_mode": {
    "name": "ipython",
    "version": 3
   },
   "file_extension": ".py",
   "mimetype": "text/x-python",
   "name": "python",
   "nbconvert_exporter": "python",
   "pygments_lexer": "ipython3",
   "version": "3.13.3"
  }
 },
 "nbformat": 4,
 "nbformat_minor": 5
}
