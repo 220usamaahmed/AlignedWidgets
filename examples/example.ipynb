{
 "cells": [
  {
   "cell_type": "code",
   "execution_count": 1,
   "metadata": {},
   "outputs": [
    {
     "name": "stdout",
     "output_type": "stream",
     "text": [
      "env: ANYWIDGET_HMR=1\n"
     ]
    }
   ],
   "source": [
    "%load_ext autoreload\n",
    "%autoreload 2\n",
    "%env ANYWIDGET_HMR=1"
   ]
  },
  {
   "cell_type": "code",
   "execution_count": 2,
   "metadata": {},
   "outputs": [
    {
     "data": {
      "application/vnd.jupyter.widget-view+json": {
       "model_id": "ec89c6040e004d5eb3517d3a397eb6fd",
       "version_major": 2,
       "version_minor": 1
      },
      "text/plain": [
       "Widget()"
      ]
     },
     "execution_count": 2,
     "metadata": {},
     "output_type": "execute_result"
    }
   ],
   "source": [
    "from aligned_widgets import Widget\n",
    "from aligned_widgets.control_widget import ControlWidget\n",
    "from aligned_widgets.video_widget import VideoWidget\n",
    "Widget()"
   ]
  },
  {
   "cell_type": "code",
   "execution_count": 3,
   "metadata": {},
   "outputs": [],
   "source": [
    "import ipywidgets as widgets"
   ]
  },
  {
   "cell_type": "code",
   "execution_count": 6,
   "metadata": {},
   "outputs": [],
   "source": [
    "cw10 = ControlWidget(duration=10)\n",
    "cw5 = ControlWidget(duration=5)"
   ]
  },
  {
   "cell_type": "code",
   "execution_count": 7,
   "metadata": {},
   "outputs": [],
   "source": [
    "mylink1 = widgets.jslink((cw10, 'is_running'), (cw5, 'is_running'))\n",
    "mylink2 = widgets.jslink((cw10, 'sync_time'), (cw5, 'sync_time'))"
   ]
  },
  {
   "cell_type": "code",
   "execution_count": 8,
   "metadata": {},
   "outputs": [
    {
     "data": {
      "application/vnd.jupyter.widget-view+json": {
       "model_id": "e8114be78f1049e2aeba35a3277be8dc",
       "version_major": 2,
       "version_minor": 1
      },
      "text/plain": [
       "ControlWidget(duration=10.0, icons={'play': '<svg xmlns=\"http://www.w3.org/2000/svg\" height=\"24px\" viewBox=\"0 …"
      ]
     },
     "execution_count": 8,
     "metadata": {},
     "output_type": "execute_result"
    }
   ],
   "source": [
    "cw10"
   ]
  },
  {
   "cell_type": "code",
   "execution_count": 9,
   "metadata": {},
   "outputs": [
    {
     "data": {
      "application/vnd.jupyter.widget-view+json": {
       "model_id": "e5e42319542449c790b379215305bb40",
       "version_major": 2,
       "version_minor": 1
      },
      "text/plain": [
       "ControlWidget(duration=5.0, icons={'play': '<svg xmlns=\"http://www.w3.org/2000/svg\" height=\"24px\" viewBox=\"0 -…"
      ]
     },
     "execution_count": 9,
     "metadata": {},
     "output_type": "execute_result"
    }
   ],
   "source": [
    "cw5"
   ]
  },
  {
   "cell_type": "code",
   "execution_count": 8,
   "metadata": {},
   "outputs": [],
   "source": [
    "mylink1.unlink()\n",
    "mylink2.unlink()"
   ]
  },
  {
   "cell_type": "code",
   "execution_count": 5,
   "metadata": {},
   "outputs": [
    {
     "ename": "AssertionError",
     "evalue": "The setup method 'route' can no longer be called on the application. It has already handled its first request, any changes will not be applied consistently.\nMake sure all imports, decorators, functions, etc. needed to set up the application are done before running it.",
     "output_type": "error",
     "traceback": [
      "\u001b[31m---------------------------------------------------------------------------\u001b[39m",
      "\u001b[31mAssertionError\u001b[39m                            Traceback (most recent call last)",
      "\u001b[36mCell\u001b[39m\u001b[36m \u001b[39m\u001b[32mIn[5]\u001b[39m\u001b[32m, line 1\u001b[39m\n\u001b[32m----> \u001b[39m\u001b[32m1\u001b[39m vw = \u001b[43mVideoWidget\u001b[49m\u001b[43m(\u001b[49m\u001b[33;43m\"\u001b[39;49m\u001b[33;43m/Users/usama/Projects/AlignedWidgets/examples/dummy_video.mp4\u001b[39;49m\u001b[33;43m\"\u001b[39;49m\u001b[43m)\u001b[49m\n\u001b[32m      2\u001b[39m v_cw = ControlWidget(duration=\u001b[32m10\u001b[39m)\n\u001b[32m      4\u001b[39m mylink1 = widgets.jslink((vw, \u001b[33m'\u001b[39m\u001b[33mis_running\u001b[39m\u001b[33m'\u001b[39m), (v_cw, \u001b[33m'\u001b[39m\u001b[33mis_running\u001b[39m\u001b[33m'\u001b[39m))\n",
      "\u001b[36mFile \u001b[39m\u001b[32m~/Projects/AlignedWidgets/src/aligned_widgets/video_widget.py:32\u001b[39m, in \u001b[36mVideoWidget.__init__\u001b[39m\u001b[34m(self, video_path, **kwargs)\u001b[39m\n\u001b[32m     29\u001b[39m     \u001b[38;5;28;01mraise\u001b[39;00m \u001b[38;5;167;01mValueError\u001b[39;00m(\u001b[33mf\u001b[39m\u001b[33m\"\u001b[39m\u001b[33mVideo file \u001b[39m\u001b[33m'\u001b[39m\u001b[38;5;132;01m{\u001b[39;00mvideo_path\u001b[38;5;132;01m}\u001b[39;00m\u001b[33m'\u001b[39m\u001b[33m is not an mp4 file.\u001b[39m\u001b[33m\"\u001b[39m)\n\u001b[32m     31\u001b[39m \u001b[38;5;28mself\u001b[39m.server_running = \u001b[38;5;28;01mFalse\u001b[39;00m\n\u001b[32m---> \u001b[39m\u001b[32m32\u001b[39m \u001b[38;5;28;43mself\u001b[39;49m\u001b[43m.\u001b[49m\u001b[43m_start_server\u001b[49m\u001b[43m(\u001b[49m\u001b[43mpath\u001b[49m\u001b[43m)\u001b[49m\n",
      "\u001b[36mFile \u001b[39m\u001b[32m~/Projects/AlignedWidgets/src/aligned_widgets/video_widget.py:43\u001b[39m, in \u001b[36mVideoWidget._start_server\u001b[39m\u001b[34m(self, video_path)\u001b[39m\n\u001b[32m     40\u001b[39m video_dir = video_path.parent\n\u001b[32m     41\u001b[39m video_filename = video_path.name\n\u001b[32m---> \u001b[39m\u001b[32m43\u001b[39m \u001b[38;5;129m@app\u001b[39m\u001b[43m.\u001b[49m\u001b[43mroute\u001b[49m\u001b[43m(\u001b[49m\u001b[33;43m\"\u001b[39;49m\u001b[33;43m/video\u001b[39;49m\u001b[33;43m\"\u001b[39;49m\u001b[43m)\u001b[49m\n\u001b[32m     44\u001b[39m \u001b[38;5;28;01mdef\u001b[39;00m\u001b[38;5;250m \u001b[39m\u001b[34mserve_video\u001b[39m():\n\u001b[32m     45\u001b[39m     \u001b[38;5;28;01mreturn\u001b[39;00m send_from_directory(video_dir, video_filename)\n\u001b[32m     47\u001b[39m \u001b[38;5;28;01mdef\u001b[39;00m\u001b[38;5;250m \u001b[39m\u001b[34mrun\u001b[39m():\n",
      "\u001b[36mFile \u001b[39m\u001b[32m~/Projects/AlignedWidgets/.venv/lib/python3.13/site-packages/flask/sansio/scaffold.py:46\u001b[39m, in \u001b[36msetupmethod.<locals>.wrapper_func\u001b[39m\u001b[34m(self, *args, **kwargs)\u001b[39m\n\u001b[32m     45\u001b[39m \u001b[38;5;28;01mdef\u001b[39;00m\u001b[38;5;250m \u001b[39m\u001b[34mwrapper_func\u001b[39m(\u001b[38;5;28mself\u001b[39m: Scaffold, *args: t.Any, **kwargs: t.Any) -> t.Any:\n\u001b[32m---> \u001b[39m\u001b[32m46\u001b[39m     \u001b[38;5;28;43mself\u001b[39;49m\u001b[43m.\u001b[49m\u001b[43m_check_setup_finished\u001b[49m\u001b[43m(\u001b[49m\u001b[43mf_name\u001b[49m\u001b[43m)\u001b[49m\n\u001b[32m     47\u001b[39m     \u001b[38;5;28;01mreturn\u001b[39;00m f(\u001b[38;5;28mself\u001b[39m, *args, **kwargs)\n",
      "\u001b[36mFile \u001b[39m\u001b[32m~/Projects/AlignedWidgets/.venv/lib/python3.13/site-packages/flask/sansio/app.py:415\u001b[39m, in \u001b[36mApp._check_setup_finished\u001b[39m\u001b[34m(self, f_name)\u001b[39m\n\u001b[32m    413\u001b[39m \u001b[38;5;28;01mdef\u001b[39;00m\u001b[38;5;250m \u001b[39m\u001b[34m_check_setup_finished\u001b[39m(\u001b[38;5;28mself\u001b[39m, f_name: \u001b[38;5;28mstr\u001b[39m) -> \u001b[38;5;28;01mNone\u001b[39;00m:\n\u001b[32m    414\u001b[39m     \u001b[38;5;28;01mif\u001b[39;00m \u001b[38;5;28mself\u001b[39m._got_first_request:\n\u001b[32m--> \u001b[39m\u001b[32m415\u001b[39m         \u001b[38;5;28;01mraise\u001b[39;00m \u001b[38;5;167;01mAssertionError\u001b[39;00m(\n\u001b[32m    416\u001b[39m             \u001b[33mf\u001b[39m\u001b[33m\"\u001b[39m\u001b[33mThe setup method \u001b[39m\u001b[33m'\u001b[39m\u001b[38;5;132;01m{\u001b[39;00mf_name\u001b[38;5;132;01m}\u001b[39;00m\u001b[33m'\u001b[39m\u001b[33m can no longer be called\u001b[39m\u001b[33m\"\u001b[39m\n\u001b[32m    417\u001b[39m             \u001b[33m\"\u001b[39m\u001b[33m on the application. It has already handled its first\u001b[39m\u001b[33m\"\u001b[39m\n\u001b[32m    418\u001b[39m             \u001b[33m\"\u001b[39m\u001b[33m request, any changes will not be applied\u001b[39m\u001b[33m\"\u001b[39m\n\u001b[32m    419\u001b[39m             \u001b[33m\"\u001b[39m\u001b[33m consistently.\u001b[39m\u001b[38;5;130;01m\\n\u001b[39;00m\u001b[33m\"\u001b[39m\n\u001b[32m    420\u001b[39m             \u001b[33m\"\u001b[39m\u001b[33mMake sure all imports, decorators, functions, etc.\u001b[39m\u001b[33m\"\u001b[39m\n\u001b[32m    421\u001b[39m             \u001b[33m\"\u001b[39m\u001b[33m needed to set up the application are done before\u001b[39m\u001b[33m\"\u001b[39m\n\u001b[32m    422\u001b[39m             \u001b[33m\"\u001b[39m\u001b[33m running it.\u001b[39m\u001b[33m\"\u001b[39m\n\u001b[32m    423\u001b[39m         )\n",
      "\u001b[31mAssertionError\u001b[39m: The setup method 'route' can no longer be called on the application. It has already handled its first request, any changes will not be applied consistently.\nMake sure all imports, decorators, functions, etc. needed to set up the application are done before running it."
     ]
    }
   ],
   "source": [
    "vw = VideoWidget(\"/Users/usama/Projects/AlignedWidgets/examples/dummy_video.mp4\")\n",
    "v_cw = ControlWidget(duration=10)\n",
    "\n",
    "mylink1 = widgets.jslink((vw, 'is_running'), (v_cw, 'is_running'))\n",
    "mylink2 = widgets.jslink((vw, 'sync_time'), (v_cw, 'sync_time'))\n",
    "\n",
    "display(vw, v_cw)"
   ]
  },
  {
   "cell_type": "code",
   "execution_count": null,
   "metadata": {},
   "outputs": [],
   "source": []
  }
 ],
 "metadata": {
  "kernelspec": {
   "display_name": "Python 3 (ipykernel)",
   "language": "python",
   "name": "python3"
  },
  "language_info": {
   "codemirror_mode": {
    "name": "ipython",
    "version": 3
   },
   "file_extension": ".py",
   "mimetype": "text/x-python",
   "name": "python",
   "nbconvert_exporter": "python",
   "pygments_lexer": "ipython3",
   "version": "3.13.3"
  }
 },
 "nbformat": 4,
 "nbformat_minor": 4
}
