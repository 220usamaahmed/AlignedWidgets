{
 "cells": [
  {
   "cell_type": "code",
   "execution_count": 10,
   "metadata": {},
   "outputs": [
    {
     "name": "stdout",
     "output_type": "stream",
     "text": [
      "The autoreload extension is already loaded. To reload it, use:\n",
      "  %reload_ext autoreload\n",
      "env: ANYWIDGET_HMR=1\n"
     ]
    }
   ],
   "source": [
    "%load_ext autoreload\n",
    "%autoreload 2\n",
    "%env ANYWIDGET_HMR=1"
   ]
  },
  {
   "cell_type": "code",
   "execution_count": 11,
   "metadata": {},
   "outputs": [],
   "source": [
    "from aligned_widgets import Widget\n",
    "from aligned_widgets.control_widget import ControlWidget\n",
    "from aligned_widgets.video_widget import VideoWidget\n",
    "from aligned_widgets.timeseries_widget import TimeseriesWidget\n",
    "import ipywidgets as widgets\n",
    "import numpy as np"
   ]
  },
  {
   "cell_type": "markdown",
   "metadata": {
    "jp-MarkdownHeadingCollapsed": true
   },
   "source": [
    "## Video and Control"
   ]
  },
  {
   "cell_type": "code",
   "execution_count": 3,
   "metadata": {},
   "outputs": [
    {
     "name": "stdout",
     "output_type": "stream",
     "text": [
      " * Serving Flask app 'aligned_widgets.file_server'\n",
      " * Debug mode: off\n"
     ]
    },
    {
     "data": {
      "application/vnd.jupyter.widget-view+json": {
       "model_id": "c6641aaf8b10487db5dd3eb91178d1a7",
       "version_major": 2,
       "version_minor": 1
      },
      "text/plain": [
       "VideoWidget(video_url='http://localhost:8123/0')"
      ]
     },
     "metadata": {},
     "output_type": "display_data"
    },
    {
     "data": {
      "application/vnd.jupyter.widget-view+json": {
       "model_id": "5306ddfd0ea8416392698389c2efa05f",
       "version_major": 2,
       "version_minor": 1
      },
      "text/plain": [
       "ControlWidget(duration=10.0, icons={'play': '<svg xmlns=\"http://www.w3.org/2000/svg\" height=\"24px\" viewBox=\"0 …"
      ]
     },
     "metadata": {},
     "output_type": "display_data"
    },
    {
     "name": "stderr",
     "output_type": "stream",
     "text": [
      "\u001b[31m\u001b[1mWARNING: This is a development server. Do not use it in a production deployment. Use a production WSGI server instead.\u001b[0m\n",
      " * Running on http://127.0.0.1:8123\n",
      "\u001b[33mPress CTRL+C to quit\u001b[0m\n",
      "127.0.0.1 - - [30/May/2025 12:23:39] \"\u001b[35m\u001b[1mGET /0 HTTP/1.1\u001b[0m\" 206 -\n",
      "127.0.0.1 - - [30/May/2025 12:23:39] \"\u001b[35m\u001b[1mGET /0 HTTP/1.1\u001b[0m\" 206 -\n"
     ]
    }
   ],
   "source": [
    "vw = VideoWidget(\"/Users/usama/Projects/AlignedWidgets/examples/dummy_video.mp4\")\n",
    "v_cw = ControlWidget(duration=10)\n",
    "\n",
    "mylink1 = widgets.jslink((vw, \"is_running\"), (v_cw, \"is_running\"))\n",
    "mylink2 = widgets.jslink((vw, \"sync_time\"), (v_cw, \"sync_time\"))\n",
    "\n",
    "display(vw, v_cw)"
   ]
  },
  {
   "cell_type": "code",
   "execution_count": 5,
   "metadata": {},
   "outputs": [],
   "source": [
    "mylink2.unlink()\n",
    "mylink2.unlink()\n",
    "\n",
    "# Unlink not working?"
   ]
  },
  {
   "cell_type": "markdown",
   "metadata": {},
   "source": [
    "## Timeseries and Control"
   ]
  },
  {
   "cell_type": "code",
   "execution_count": 14,
   "metadata": {},
   "outputs": [],
   "source": [
    "T = 20\n",
    "\n",
    "times = np.arange(0, T, 0.01)\n",
    "values = np.vstack([times * np.sin(times * np.pi * 2), np.cos(times * np.pi * 2), np.cos(times * np.pi * 1)])\n",
    "\n",
    "annotations = [\n",
    "    {\"start\": 1, \"end\": 2, \"tags\": [\"a\", \"b\"]},\n",
    "    {\"start\": 2.1, \"end\": 5, \"tags\": [\"b\"]},\n",
    "    {\"start\": 6.5, \"end\": 7, \"tags\": [\"b\", \"c\"]},\n",
    "]"
   ]
  },
  {
   "cell_type": "code",
   "execution_count": 21,
   "metadata": {},
   "outputs": [
    {
     "data": {
      "application/vnd.jupyter.widget-view+json": {
       "model_id": "99df6572007842c0aef31ff8884e03ed",
       "version_major": 2,
       "version_minor": 1
      },
      "text/plain": [
       "TimeseriesWidget(annotations=[{'start': 1, 'end': 2, 'tags': ['a', 'b']}, {'start': 2.1, 'end': 5, 'tags': ['b…"
      ]
     },
     "metadata": {},
     "output_type": "display_data"
    },
    {
     "data": {
      "application/vnd.jupyter.widget-view+json": {
       "model_id": "c0915f5915654dc193177f4a49389ce1",
       "version_major": 2,
       "version_minor": 1
      },
      "text/plain": [
       "ControlWidget(duration=20.0, icons={'play': '<svg xmlns=\"http://www.w3.org/2000/svg\" height=\"24px\" viewBox=\"0 …"
      ]
     },
     "metadata": {},
     "output_type": "display_data"
    }
   ],
   "source": [
    "tsw = TimeseriesWidget(\n",
    "    times, \n",
    "    values,\n",
    "    tags=[\"a\", \"b\", \"c\"],\n",
    "    annotations=annotations,\n",
    "    channel_names=[\"sin\", \"cos\", \"cos2\"], \n",
    "    title=\"Trig Functions\",\n",
    "    y_range=(-2, 2)\n",
    ")\n",
    "ts_cw = ControlWidget(T)\n",
    "\n",
    "mylink1 = widgets.jslink((tsw, \"is_running\"), (ts_cw, \"is_running\"))\n",
    "mylink2 = widgets.jslink((tsw, \"sync_time\"), (ts_cw, \"sync_time\"))\n",
    "\n",
    "display(tsw, ts_cw)"
   ]
  },
  {
   "cell_type": "code",
   "execution_count": 20,
   "metadata": {},
   "outputs": [
    {
     "data": {
      "text/plain": [
       "[{'start': 0.005936136662251901, 'end': 2.0690110381077185, 'tag': 'a'},\n",
       " {'start': 2.1, 'end': 5, 'tag': 'b'},\n",
       " {'start': 6.5, 'end': 7, 'tag': 'b'}]"
      ]
     },
     "execution_count": 20,
     "metadata": {},
     "output_type": "execute_result"
    }
   ],
   "source": [
    "tsw.annotations"
   ]
  }
 ],
 "metadata": {
  "kernelspec": {
   "display_name": "Python 3 (ipykernel)",
   "language": "python",
   "name": "python3"
  },
  "language_info": {
   "codemirror_mode": {
    "name": "ipython",
    "version": 3
   },
   "file_extension": ".py",
   "mimetype": "text/x-python",
   "name": "python",
   "nbconvert_exporter": "python",
   "pygments_lexer": "ipython3",
   "version": "3.13.3"
  }
 },
 "nbformat": 4,
 "nbformat_minor": 4
}
