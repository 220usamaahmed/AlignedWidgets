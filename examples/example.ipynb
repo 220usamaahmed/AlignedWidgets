{
 "cells": [
  {
   "cell_type": "code",
   "execution_count": 9,
   "metadata": {},
   "outputs": [
    {
     "name": "stdout",
     "output_type": "stream",
     "text": [
      "The autoreload extension is already loaded. To reload it, use:\n",
      "  %reload_ext autoreload\n",
      "env: ANYWIDGET_HMR=1\n"
     ]
    }
   ],
   "source": [
    "%load_ext autoreload\n",
    "%autoreload 2\n",
    "%env ANYWIDGET_HMR=1"
   ]
  },
  {
   "cell_type": "code",
   "execution_count": 10,
   "metadata": {},
   "outputs": [],
   "source": [
    "from aligned_widgets import *\n",
    "import numpy as np"
   ]
  },
  {
   "cell_type": "code",
   "execution_count": 11,
   "metadata": {},
   "outputs": [],
   "source": [
    "T = 10\n",
    "\n",
    "times = np.arange(0, T, 0.01)\n",
    "values = np.vstack([times * np.sin(times * np.pi * 2), np.cos(times * np.pi * 2), np.cos(times * np.pi * 1)])\n",
    "\n",
    "annotations = [\n",
    "    {\"start\": 1, \"end\": 2, \"tags\": [\"a\", \"b\"]},\n",
    "    {\"start\": 2.1, \"end\": 5, \"tags\": [\"b\"]},\n",
    "    {\"start\": 6.5, \"end\": 7, \"tags\": [\"b\", \"c\"]},\n",
    "]"
   ]
  },
  {
   "cell_type": "code",
   "execution_count": 12,
   "metadata": {},
   "outputs": [
    {
     "name": "stdout",
     "output_type": "stream",
     "text": [
      "/Users/usama/Projects/AlignedWidgets/examples/dummy_video.mp4\n"
     ]
    },
    {
     "data": {
      "application/vnd.jupyter.widget-view+json": {
       "model_id": "9a54cefd0d7045dda93385c5c3da27d0",
       "version_major": 2,
       "version_minor": 1
      },
      "text/plain": [
       "VideoWidget(video_url='http://localhost:8123/4')"
      ]
     },
     "metadata": {},
     "output_type": "display_data"
    },
    {
     "data": {
      "application/vnd.jupyter.widget-view+json": {
       "model_id": "746b78e676584714adac7a2177d97d5d",
       "version_major": 2,
       "version_minor": 1
      },
      "text/plain": [
       "TimeseriesWidget(annotations=[{'start': 1, 'end': 2, 'tags': ['a', 'b']}, {'start': 2.1, 'end': 5, 'tags': ['b…"
      ]
     },
     "metadata": {},
     "output_type": "display_data"
    },
    {
     "data": {
      "application/vnd.jupyter.widget-view+json": {
       "model_id": "c4616ca546934f45980463d5ae738e36",
       "version_major": 2,
       "version_minor": 1
      },
      "text/plain": [
       "ControlWidget(duration=10.0, icons={'play': '<svg xmlns=\"http://www.w3.org/2000/svg\" height=\"24px\" viewBox=\"0 …"
      ]
     },
     "metadata": {},
     "output_type": "display_data"
    }
   ],
   "source": [
    "v = VideoWidget(\"/Users/usama/Projects/AlignedWidgets/examples/dummy_video.mp4\")\n",
    "ts = TimeseriesWidget(\n",
    "    times, \n",
    "    values,\n",
    "    tags=[\"a\", \"b\", \"c\"],\n",
    "    annotations=annotations,\n",
    "    channel_names=[\"sin\", \"cos\", \"cos2\"], \n",
    "    title=\"Trig Functions\",\n",
    "    y_range=(-2, None)\n",
    ")\n",
    "c = ControlWidget(T)\n",
    "\n",
    "a = align(c, v, ts)\n",
    "display(v, ts, c)"
   ]
  },
  {
   "cell_type": "code",
   "execution_count": 14,
   "metadata": {},
   "outputs": [
    {
     "data": {
      "text/plain": [
       "[{'start': 1, 'end': 2, 'tags': ['a', 'b']},\n",
       " {'start': 2.1, 'end': 5, 'tags': ['b']},\n",
       " {'start': 6.5, 'end': 7, 'tags': ['b', 'c']}]"
      ]
     },
     "execution_count": 14,
     "metadata": {},
     "output_type": "execute_result"
    }
   ],
   "source": [
    "ts.annotations"
   ]
  }
 ],
 "metadata": {
  "kernelspec": {
   "display_name": "Python 3 (ipykernel)",
   "language": "python",
   "name": "python3"
  },
  "language_info": {
   "codemirror_mode": {
    "name": "ipython",
    "version": 3
   },
   "file_extension": ".py",
   "mimetype": "text/x-python",
   "name": "python",
   "nbconvert_exporter": "python",
   "pygments_lexer": "ipython3",
   "version": "3.13.3"
  }
 },
 "nbformat": 4,
 "nbformat_minor": 4
}
