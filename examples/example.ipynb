{
 "cells": [
  {
   "cell_type": "code",
   "execution_count": 1,
   "metadata": {},
   "outputs": [
    {
     "name": "stdout",
     "output_type": "stream",
     "text": [
      "env: ANYWIDGET_HMR=1\n"
     ]
    }
   ],
   "source": [
    "%load_ext autoreload\n",
    "%autoreload 2\n",
    "%env ANYWIDGET_HMR=1"
   ]
  },
  {
   "cell_type": "code",
   "execution_count": 3,
   "metadata": {},
   "outputs": [],
   "source": [
    "from aligned_widgets import *\n",
    "import numpy as np"
   ]
  },
  {
   "cell_type": "code",
   "execution_count": null,
   "metadata": {},
   "outputs": [],
   "source": [
    "T = 10\n",
    "\n",
    "times = np.arange(0, T, 0.01)\n",
    "values = np.vstack(\n",
    "    [\n",
    "        times * np.sin(times * np.pi * 2),\n",
    "        np.cos(times * np.pi * 2),\n",
    "        np.cos(times * np.pi * 1),\n",
    "    ]\n",
    ")\n",
    "\n",
    "annotations = [\n",
    "    {\"start\": 1, \"end\": 2, \"tags\": [\"First\", \"Second\"]},\n",
    "    {\"start\": 2.1, \"end\": 5, \"tags\": [\"Second\"]},\n",
    "    {\"start\": 6.5, \"end\": 7, \"tags\": [\"Second\", \"Third\"]},\n",
    "]"
   ]
  },
  {
   "cell_type": "code",
   "execution_count": null,
   "metadata": {},
   "outputs": [
    {
     "name": "stdout",
     "output_type": "stream",
     "text": [
      " * Serving Flask app 'aligned_widgets.file_server'\n",
      " * Debug mode: off\n"
     ]
    },
    {
     "data": {
      "application/vnd.jupyter.widget-view+json": {
       "model_id": "45621ee7c759428fa718c00522cd08b6",
       "version_major": 2,
       "version_minor": 1
      },
      "text/plain": [
       "VideoWidget(video_url='http://localhost:8123/0')"
      ]
     },
     "metadata": {},
     "output_type": "display_data"
    },
    {
     "data": {
      "application/vnd.jupyter.widget-view+json": {
       "model_id": "c30539ae44ee44aaaaa074dcc9996976",
       "version_major": 2,
       "version_minor": 1
      },
      "text/plain": [
       "TimeseriesWidget(annotations=[{'start': 1, 'end': 2, 'tags': ['First', 'Second']}, {'start': 2.1, 'end': 5, 't…"
      ]
     },
     "metadata": {},
     "output_type": "display_data"
    },
    {
     "data": {
      "application/vnd.jupyter.widget-view+json": {
       "model_id": "772123401c99400486231d84711f4908",
       "version_major": 2,
       "version_minor": 1
      },
      "text/plain": [
       "ControlWidget(duration=10.0, icons={'play': '<svg xmlns=\"http://www.w3.org/2000/svg\" height=\"24px\" viewBox=\"0 …"
      ]
     },
     "metadata": {},
     "output_type": "display_data"
    },
    {
     "name": "stderr",
     "output_type": "stream",
     "text": [
      "\u001b[31m\u001b[1mWARNING: This is a development server. Do not use it in a production deployment. Use a production WSGI server instead.\u001b[0m\n",
      " * Running on http://127.0.0.1:8123\n",
      "\u001b[33mPress CTRL+C to quit\u001b[0m\n"
     ]
    },
    {
     "name": "stderr",
     "output_type": "stream",
     "text": [
      "127.0.0.1 - - [13/Jun/2025 15:42:49] \"\u001b[35m\u001b[1mGET /0 HTTP/1.1\u001b[0m\" 206 -\n"
     ]
    },
    {
     "name": "stdout",
     "output_type": "stream",
     "text": [
      "Going to serve...\n",
      "/Users/usama/Projects/AlignedWidgets/examples\n",
      "dummy_video.mp4\n"
     ]
    }
   ],
   "source": [
    "v = VideoWidget(\"./dummy_video.mp4\")\n",
    "ts = TimeseriesWidget(\n",
    "    times,\n",
    "    values,\n",
    "    tags=[\"First\", \"Second\", \"Third\"],\n",
    "    annotations=annotations,\n",
    "    channel_names=[\"sin\", \"cos\", \"cos2\"],\n",
    "    title=\"Trig Functions\",\n",
    "    x_range=5,\n",
    "    y_range=(-2, None),\n",
    ")\n",
    "c = ControlWidget(T)\n",
    "\n",
    "a = align(c, v, ts)\n",
    "display(v, ts, c)\n",
    "\n",
    "# a = align(c, ts)\n",
    "# display(ts, c)"
   ]
  },
  {
   "cell_type": "code",
   "execution_count": 6,
   "metadata": {},
   "outputs": [
    {
     "data": {
      "text/plain": [
       "[{'start': 1, 'end': 2, 'tags': ['First', 'Second']},\n",
       " {'start': 2.1, 'end': 5, 'tags': ['Second']},\n",
       " {'start': 6.5, 'end': 7, 'tags': ['Second', 'Third']}]"
      ]
     },
     "execution_count": 6,
     "metadata": {},
     "output_type": "execute_result"
    }
   ],
   "source": [
    "ts.annotations"
   ]
  }
 ],
 "metadata": {
  "kernelspec": {
   "display_name": ".venv",
   "language": "python",
   "name": "python3"
  },
  "language_info": {
   "codemirror_mode": {
    "name": "ipython",
    "version": 3
   },
   "file_extension": ".py",
   "mimetype": "text/x-python",
   "name": "python",
   "nbconvert_exporter": "python",
   "pygments_lexer": "ipython3",
   "version": "3.13.3"
  }
 },
 "nbformat": 4,
 "nbformat_minor": 4
}
